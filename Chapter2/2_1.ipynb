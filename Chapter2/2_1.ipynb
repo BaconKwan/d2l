{
 "cells": [
  {
   "cell_type": "code",
   "execution_count": 17,
   "metadata": {},
   "outputs": [
    {
     "data": {
      "text/plain": [
       "(True, 1, 'NVIDIA GeForce RTX 3080')"
      ]
     },
     "execution_count": 17,
     "metadata": {},
     "output_type": "execute_result"
    }
   ],
   "source": [
    "import torch\n",
    "\n",
    "torch.cuda.is_available(), torch.cuda.device_count(), torch.cuda.get_device_name()"
   ]
  },
  {
   "cell_type": "code",
   "execution_count": 2,
   "metadata": {},
   "outputs": [
    {
     "name": "stdout",
     "output_type": "stream",
     "text": [
      "x = tensor([ 0,  1,  2,  3,  4,  5,  6,  7,  8,  9, 10, 11])\n",
      "shape: torch.Size([12]), num of elements: 12\n"
     ]
    }
   ],
   "source": [
    "x = torch.arange(12)\n",
    "print(f'x = {x}')\n",
    "print(f'shape: {x.shape}, num of elements: {x.numel()}')"
   ]
  },
  {
   "cell_type": "code",
   "execution_count": 3,
   "metadata": {},
   "outputs": [
    {
     "data": {
      "text/plain": [
       "tensor([[ 0,  1,  2,  3],\n",
       "        [ 4,  5,  6,  7],\n",
       "        [ 8,  9, 10, 11]])"
      ]
     },
     "execution_count": 3,
     "metadata": {},
     "output_type": "execute_result"
    }
   ],
   "source": [
    "X = x.reshape(3, -1)\n",
    "X"
   ]
  },
  {
   "cell_type": "code",
   "execution_count": 4,
   "metadata": {},
   "outputs": [
    {
     "data": {
      "text/plain": [
       "torch.Size([2, 3, 4])"
      ]
     },
     "execution_count": 4,
     "metadata": {},
     "output_type": "execute_result"
    }
   ],
   "source": [
    "tensor_zeros = torch.zeros(2, 3, 4)\n",
    "tensor_zeros.shape"
   ]
  },
  {
   "cell_type": "code",
   "execution_count": 5,
   "metadata": {},
   "outputs": [
    {
     "data": {
      "text/plain": [
       "60"
      ]
     },
     "execution_count": 5,
     "metadata": {},
     "output_type": "execute_result"
    }
   ],
   "source": [
    "tensor_ones = torch.ones(3, 4, 5)\n",
    "tensor_ones.numel()"
   ]
  },
  {
   "cell_type": "code",
   "execution_count": 6,
   "metadata": {},
   "outputs": [
    {
     "data": {
      "text/plain": [
       "tensor([[[ 1.2692, -0.1161, -0.5972,  0.3669, -2.2151,  1.4756],\n",
       "         [ 0.0052,  0.6107,  1.2069, -0.4424, -2.1285, -0.5558],\n",
       "         [-0.3272, -1.3648, -0.4518, -0.1837,  0.9852, -0.7316],\n",
       "         [ 0.6751, -0.8946,  0.7669, -0.4268, -0.6006, -0.1154],\n",
       "         [ 0.0557,  0.6747, -0.6773,  1.3574, -0.4657, -1.6515]],\n",
       "\n",
       "        [[-2.6675, -0.2066,  1.5217, -1.3404,  2.1560,  1.2240],\n",
       "         [-0.8512, -0.9044, -0.4417, -0.2336, -0.6772,  0.1564],\n",
       "         [-0.0374,  0.3611,  1.3258,  0.2373,  0.5034, -0.5522],\n",
       "         [-0.2589, -1.2037,  0.4529,  1.2758, -1.3871, -0.1162],\n",
       "         [ 1.4637,  1.1759, -0.1978, -1.0936, -1.3542, -0.6562]],\n",
       "\n",
       "        [[-1.2751, -1.1504, -0.5180, -0.3412,  0.4227,  0.4797],\n",
       "         [ 0.8273,  1.4262, -0.0059, -1.5180, -0.1454, -0.0459],\n",
       "         [ 0.7009, -0.4269,  0.3030, -0.3018, -1.2005,  1.2384],\n",
       "         [-0.5311, -1.6729, -0.4870, -1.0219, -0.7827, -0.3818],\n",
       "         [ 0.2161,  1.8885,  0.3840,  1.0894,  0.3124, -0.1954]],\n",
       "\n",
       "        [[ 1.2814,  0.9067, -0.7094, -0.4511,  1.1686, -0.2846],\n",
       "         [ 0.9912, -0.0717,  0.4527, -0.0043,  0.6823, -0.1721],\n",
       "         [ 0.4096,  0.2343, -1.1988,  0.3927, -1.7356,  0.7230],\n",
       "         [-0.4204, -1.3210,  0.2989, -0.6932,  1.6238, -0.8225],\n",
       "         [-0.5237, -0.9831,  1.1809,  0.1537,  1.5324, -1.3667]]])"
      ]
     },
     "execution_count": 6,
     "metadata": {},
     "output_type": "execute_result"
    }
   ],
   "source": [
    "tensor_random = torch.randn(4, 5, 6)\n",
    "tensor_random"
   ]
  },
  {
   "cell_type": "code",
   "execution_count": 7,
   "metadata": {},
   "outputs": [
    {
     "data": {
      "text/plain": [
       "tensor([[1, 2, 3, 4],\n",
       "        [2, 3, 4, 5],\n",
       "        [3, 4, 5, 6]])"
      ]
     },
     "execution_count": 7,
     "metadata": {},
     "output_type": "execute_result"
    }
   ],
   "source": [
    "torch.tensor([[1,2,3,4], [2,3,4,5], [3,4,5,6]])"
   ]
  },
  {
   "cell_type": "code",
   "execution_count": 8,
   "metadata": {},
   "outputs": [
    {
     "data": {
      "text/plain": [
       "(tensor([10, 10, 10, 10, 10]),\n",
       " tensor([8, 6, 4, 2, 0]),\n",
       " tensor([ 9, 16, 21, 24, 25]),\n",
       " tensor([9.0000, 4.0000, 2.3333, 1.5000, 1.0000]),\n",
       " tensor([   9,   64,  343, 1296, 3125]))"
      ]
     },
     "execution_count": 8,
     "metadata": {},
     "output_type": "execute_result"
    }
   ],
   "source": [
    "A = torch.tensor([9,8,7,6,5])\n",
    "B = torch.tensor([1,2,3,4,5])\n",
    "\n",
    "A+B, A-B, A*B, A/B, A**B"
   ]
  },
  {
   "cell_type": "code",
   "execution_count": 9,
   "metadata": {},
   "outputs": [
    {
     "data": {
      "text/plain": [
       "tensor([  2.7183,   7.3891,  20.0855,  54.5981, 148.4132])"
      ]
     },
     "execution_count": 9,
     "metadata": {},
     "output_type": "execute_result"
    }
   ],
   "source": [
    "torch.exp(B)"
   ]
  },
  {
   "cell_type": "code",
   "execution_count": 10,
   "metadata": {},
   "outputs": [
    {
     "data": {
      "text/plain": [
       "(tensor([[ 0.,  1.,  2.,  3.],\n",
       "         [ 4.,  5.,  6.,  7.],\n",
       "         [ 8.,  9., 10., 11.],\n",
       "         [ 2.,  1.,  4.,  3.],\n",
       "         [ 4.,  3.,  2.,  1.],\n",
       "         [ 2.,  4.,  6.,  8.]]),\n",
       " tensor([[ 2.,  1.,  4.,  3.,  0.,  1.,  2.,  3.],\n",
       "         [ 4.,  3.,  2.,  1.,  4.,  5.,  6.,  7.],\n",
       "         [ 2.,  4.,  6.,  8.,  8.,  9., 10., 11.]]))"
      ]
     },
     "execution_count": 10,
     "metadata": {},
     "output_type": "execute_result"
    }
   ],
   "source": [
    "A = torch.arange(12, dtype=torch.float16).reshape(-1,4)\n",
    "B = torch.tensor([[2., 1, 4, 3], [4, 3, 2, 1], [2, 4, 6, 8]])\n",
    "torch.cat((A, B), dim=0), torch.cat([B, A], dim=1)"
   ]
  },
  {
   "cell_type": "code",
   "execution_count": 11,
   "metadata": {},
   "outputs": [
    {
     "data": {
      "text/plain": [
       "tensor([[False,  True, False,  True],\n",
       "        [ True, False, False, False],\n",
       "        [False, False, False, False]])"
      ]
     },
     "execution_count": 11,
     "metadata": {},
     "output_type": "execute_result"
    }
   ],
   "source": [
    "A == B"
   ]
  },
  {
   "cell_type": "code",
   "execution_count": 12,
   "metadata": {},
   "outputs": [
    {
     "data": {
      "text/plain": [
       "(tensor(66., dtype=torch.float16), tensor(40.))"
      ]
     },
     "execution_count": 12,
     "metadata": {},
     "output_type": "execute_result"
    }
   ],
   "source": [
    "A.sum(), B.sum()"
   ]
  },
  {
   "cell_type": "code",
   "execution_count": 13,
   "metadata": {},
   "outputs": [
    {
     "data": {
      "text/plain": [
       "(tensor([ 8.,  9., 10., 11.], dtype=torch.float16),\n",
       " tensor([[ 4.,  5.,  6.,  7.],\n",
       "         [ 8.,  9., 10., 11.]], dtype=torch.float16),\n",
       " tensor(8.))"
      ]
     },
     "execution_count": 13,
     "metadata": {},
     "output_type": "execute_result"
    }
   ],
   "source": [
    "A[-1], A[1:3], B[2, 3]"
   ]
  },
  {
   "cell_type": "code",
   "execution_count": 14,
   "metadata": {},
   "outputs": [
    {
     "data": {
      "text/plain": [
       "tensor([[ 8.,  8.,  8.,  8.],\n",
       "        [ 8.,  8.,  8.,  8.],\n",
       "        [ 8.,  9., 10., 11.]], dtype=torch.float16)"
      ]
     },
     "execution_count": 14,
     "metadata": {},
     "output_type": "execute_result"
    }
   ],
   "source": [
    "A[0:2, :] = 8\n",
    "A"
   ]
  },
  {
   "cell_type": "code",
   "execution_count": 15,
   "metadata": {},
   "outputs": [
    {
     "data": {
      "text/plain": [
       "False"
      ]
     },
     "execution_count": 15,
     "metadata": {},
     "output_type": "execute_result"
    }
   ],
   "source": [
    "tmp_id = id(B)\n",
    "B = B + A\n",
    "id(B) == tmp_id"
   ]
  },
  {
   "cell_type": "code",
   "execution_count": 16,
   "metadata": {},
   "outputs": [
    {
     "name": "stdout",
     "output_type": "stream",
     "text": [
      "id(Z) 139874435379472\n",
      "id(Z) 139874435379472\n"
     ]
    },
    {
     "data": {
      "text/plain": [
       "tensor([[18., 17., 20., 19.],\n",
       "        [20., 19., 18., 17.],\n",
       "        [18., 22., 26., 30.]], dtype=torch.float16)"
      ]
     },
     "execution_count": 16,
     "metadata": {},
     "output_type": "execute_result"
    }
   ],
   "source": [
    "Z = torch.zeros_like(A)\n",
    "print('id(Z)', id(Z))\n",
    "Z[:] = A + B\n",
    "print('id(Z)', id(Z))\n",
    "Z"
   ]
  }
 ],
 "metadata": {
  "kernelspec": {
   "display_name": "Python 3 (ipykernel)",
   "language": "python",
   "name": "python3"
  },
  "language_info": {
   "codemirror_mode": {
    "name": "ipython",
    "version": 3
   },
   "file_extension": ".py",
   "mimetype": "text/x-python",
   "name": "python",
   "nbconvert_exporter": "python",
   "pygments_lexer": "ipython3",
   "version": "3.11.5"
  }
 },
 "nbformat": 4,
 "nbformat_minor": 2
}
