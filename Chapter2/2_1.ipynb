{
 "cells": [
  {
   "cell_type": "code",
   "execution_count": null,
   "metadata": {},
   "outputs": [
    {
     "data": {
      "text/plain": [
       "(True, 8, 'NVIDIA A100-SXM4-40GB')"
      ]
     },
     "execution_count": 8,
     "metadata": {},
     "output_type": "execute_result"
    }
   ],
   "source": [
    "import torch\n",
    "\n",
    "torch.cuda.is_available(), torch.cuda.device_count(), torch.cuda.get_device_name()"
   ]
  },
  {
   "cell_type": "code",
   "execution_count": 10,
   "metadata": {},
   "outputs": [
    {
     "name": "stdout",
     "output_type": "stream",
     "text": [
      "x = tensor([ 0,  1,  2,  3,  4,  5,  6,  7,  8,  9, 10, 11])\n",
      "shape: torch.Size([12]), num of elements: 12\n"
     ]
    }
   ],
   "source": [
    "x = torch.arange(12)\n",
    "print(f'x = {x}')\n",
    "print(f'shape: {x.shape}, num of elements: {x.numel()}')"
   ]
  },
  {
   "cell_type": "code",
   "execution_count": 11,
   "metadata": {},
   "outputs": [
    {
     "data": {
      "text/plain": [
       "tensor([[ 0,  1,  2,  3],\n",
       "        [ 4,  5,  6,  7],\n",
       "        [ 8,  9, 10, 11]])"
      ]
     },
     "execution_count": 11,
     "metadata": {},
     "output_type": "execute_result"
    }
   ],
   "source": [
    "X = x.reshape(3, -1)\n",
    "X"
   ]
  },
  {
   "cell_type": "code",
   "execution_count": 13,
   "metadata": {},
   "outputs": [
    {
     "data": {
      "text/plain": [
       "torch.Size([2, 3, 4])"
      ]
     },
     "execution_count": 13,
     "metadata": {},
     "output_type": "execute_result"
    }
   ],
   "source": [
    "tensor_zeros = torch.zeros(2, 3, 4)\n",
    "tensor_zeros.shape"
   ]
  },
  {
   "cell_type": "code",
   "execution_count": 14,
   "metadata": {},
   "outputs": [
    {
     "data": {
      "text/plain": [
       "60"
      ]
     },
     "execution_count": 14,
     "metadata": {},
     "output_type": "execute_result"
    }
   ],
   "source": [
    "tensor_ones = torch.ones(3, 4, 5)\n",
    "tensor_ones.numel()"
   ]
  },
  {
   "cell_type": "code",
   "execution_count": 15,
   "metadata": {},
   "outputs": [
    {
     "data": {
      "text/plain": [
       "tensor([[[-0.8668,  0.3133, -0.7083, -1.0915,  1.7692, -0.0696],\n",
       "         [-0.3144,  0.6706, -0.1394,  1.4802, -2.0274, -0.3041],\n",
       "         [ 0.7882,  0.9518, -1.1819,  2.0045,  1.7796, -0.7668],\n",
       "         [-0.3985,  1.1675,  0.0167, -0.8373,  1.0315,  1.5213],\n",
       "         [ 0.5127, -0.2914, -0.4879, -0.5390,  0.1274,  0.7984]],\n",
       "\n",
       "        [[-0.2939,  0.7920, -2.0695, -0.0473, -0.9741, -0.0580],\n",
       "         [-1.4119, -0.0606, -0.2085,  0.6485, -1.1731, -0.7628],\n",
       "         [ 1.0099,  0.3410,  0.1087,  0.1323, -0.6420, -0.9774],\n",
       "         [-0.5187,  0.0078, -0.0542,  1.4988,  1.3693, -0.4816],\n",
       "         [ 1.4543, -1.2108, -0.3697, -0.4524, -0.4081,  0.9063]],\n",
       "\n",
       "        [[-0.9266,  0.7334,  1.0624, -0.5593,  1.1643,  0.5166],\n",
       "         [-1.2162, -1.9906,  0.6023, -0.3976, -0.3003, -0.0538],\n",
       "         [-0.1678,  1.8837,  0.9417, -0.8028, -0.3480, -2.0655],\n",
       "         [-1.4149, -0.7537, -0.3634,  1.5593,  0.8026,  0.8918],\n",
       "         [-0.1824, -1.5585,  0.3028,  1.4039, -0.5078,  0.9163]],\n",
       "\n",
       "        [[-0.3146,  1.0389, -0.7858, -2.1451, -0.8055,  0.1806],\n",
       "         [ 0.6002,  1.1707,  0.3021, -0.0715,  1.1126, -0.1314],\n",
       "         [ 0.0475, -0.1238, -0.7340, -0.3650, -1.2715,  0.1317],\n",
       "         [ 0.1590,  1.6785, -0.4567,  1.0412, -0.7204,  2.0638],\n",
       "         [ 0.5184, -0.0538, -1.0087,  0.9562, -0.1662,  1.0102]]])"
      ]
     },
     "execution_count": 15,
     "metadata": {},
     "output_type": "execute_result"
    }
   ],
   "source": [
    "tensor_random = torch.randn(4, 5, 6)\n",
    "tensor_random"
   ]
  },
  {
   "cell_type": "code",
   "execution_count": 16,
   "metadata": {},
   "outputs": [
    {
     "data": {
      "text/plain": [
       "tensor([[1, 2, 3, 4],\n",
       "        [2, 3, 4, 5],\n",
       "        [3, 4, 5, 6]])"
      ]
     },
     "execution_count": 16,
     "metadata": {},
     "output_type": "execute_result"
    }
   ],
   "source": [
    "torch.tensor([[1,2,3,4], [2,3,4,5], [3,4,5,6]])"
   ]
  },
  {
   "cell_type": "code",
   "execution_count": 17,
   "metadata": {},
   "outputs": [
    {
     "data": {
      "text/plain": [
       "(tensor([10, 10, 10, 10, 10]),\n",
       " tensor([8, 6, 4, 2, 0]),\n",
       " tensor([ 9, 16, 21, 24, 25]),\n",
       " tensor([9.0000, 4.0000, 2.3333, 1.5000, 1.0000]),\n",
       " tensor([   9,   64,  343, 1296, 3125]))"
      ]
     },
     "execution_count": 17,
     "metadata": {},
     "output_type": "execute_result"
    }
   ],
   "source": [
    "A = torch.tensor([9,8,7,6,5])\n",
    "B = torch.tensor([1,2,3,4,5])\n",
    "\n",
    "A+B, A-B, A*B, A/B, A**B"
   ]
  },
  {
   "cell_type": "code",
   "execution_count": 18,
   "metadata": {},
   "outputs": [
    {
     "data": {
      "text/plain": [
       "tensor([  2.7183,   7.3891,  20.0855,  54.5981, 148.4132])"
      ]
     },
     "execution_count": 18,
     "metadata": {},
     "output_type": "execute_result"
    }
   ],
   "source": [
    "torch.exp(B)"
   ]
  },
  {
   "cell_type": "code",
   "execution_count": 19,
   "metadata": {},
   "outputs": [
    {
     "data": {
      "text/plain": [
       "(tensor([[ 0.,  1.,  2.,  3.],\n",
       "         [ 4.,  5.,  6.,  7.],\n",
       "         [ 8.,  9., 10., 11.],\n",
       "         [ 2.,  1.,  4.,  3.],\n",
       "         [ 4.,  3.,  2.,  1.],\n",
       "         [ 2.,  4.,  6.,  8.]]),\n",
       " tensor([[ 2.,  1.,  4.,  3.,  0.,  1.,  2.,  3.],\n",
       "         [ 4.,  3.,  2.,  1.,  4.,  5.,  6.,  7.],\n",
       "         [ 2.,  4.,  6.,  8.,  8.,  9., 10., 11.]]))"
      ]
     },
     "execution_count": 19,
     "metadata": {},
     "output_type": "execute_result"
    }
   ],
   "source": [
    "A = torch.arange(12, dtype=torch.float16).reshape(-1,4)\n",
    "B = torch.tensor([[2., 1, 4, 3], [4, 3, 2, 1], [2, 4, 6, 8]])\n",
    "torch.cat((A, B), dim=0), torch.cat([B, A], dim=1)"
   ]
  },
  {
   "cell_type": "code",
   "execution_count": 20,
   "metadata": {},
   "outputs": [
    {
     "data": {
      "text/plain": [
       "tensor([[False,  True, False,  True],\n",
       "        [ True, False, False, False],\n",
       "        [False, False, False, False]])"
      ]
     },
     "execution_count": 20,
     "metadata": {},
     "output_type": "execute_result"
    }
   ],
   "source": [
    "A == B"
   ]
  },
  {
   "cell_type": "code",
   "execution_count": 21,
   "metadata": {},
   "outputs": [
    {
     "data": {
      "text/plain": [
       "(tensor(66., dtype=torch.float16), tensor(40.))"
      ]
     },
     "execution_count": 21,
     "metadata": {},
     "output_type": "execute_result"
    }
   ],
   "source": [
    "A.sum(), B.sum()"
   ]
  },
  {
   "cell_type": "code",
   "execution_count": 22,
   "metadata": {},
   "outputs": [
    {
     "data": {
      "text/plain": [
       "(tensor([ 8.,  9., 10., 11.], dtype=torch.float16),\n",
       " tensor([[ 4.,  5.,  6.,  7.],\n",
       "         [ 8.,  9., 10., 11.]], dtype=torch.float16),\n",
       " tensor(8.))"
      ]
     },
     "execution_count": 22,
     "metadata": {},
     "output_type": "execute_result"
    }
   ],
   "source": [
    "A[-1], A[1:3], B[2, 3]"
   ]
  },
  {
   "cell_type": "code",
   "execution_count": 23,
   "metadata": {},
   "outputs": [
    {
     "data": {
      "text/plain": [
       "tensor([[ 8.,  8.,  8.,  8.],\n",
       "        [ 8.,  8.,  8.,  8.],\n",
       "        [ 8.,  9., 10., 11.]], dtype=torch.float16)"
      ]
     },
     "execution_count": 23,
     "metadata": {},
     "output_type": "execute_result"
    }
   ],
   "source": [
    "A[0:2, :] = 8\n",
    "A"
   ]
  },
  {
   "cell_type": "code",
   "execution_count": 24,
   "metadata": {},
   "outputs": [
    {
     "data": {
      "text/plain": [
       "False"
      ]
     },
     "execution_count": 24,
     "metadata": {},
     "output_type": "execute_result"
    }
   ],
   "source": [
    "tmp_id = id(B)\n",
    "B = B + A\n",
    "id(B) == tmp_id"
   ]
  },
  {
   "cell_type": "code",
   "execution_count": 25,
   "metadata": {},
   "outputs": [
    {
     "name": "stdout",
     "output_type": "stream",
     "text": [
      "id(Z) 47162937079712\n",
      "id(Z) 47162937079712\n"
     ]
    },
    {
     "data": {
      "text/plain": [
       "tensor([[18., 17., 20., 19.],\n",
       "        [20., 19., 18., 17.],\n",
       "        [18., 22., 26., 30.]], dtype=torch.float16)"
      ]
     },
     "execution_count": 25,
     "metadata": {},
     "output_type": "execute_result"
    }
   ],
   "source": [
    "Z = torch.zeros_like(A)\n",
    "print('id(Z)', id(Z))\n",
    "Z[:] = A + B\n",
    "print('id(Z)', id(Z))\n",
    "Z"
   ]
  },
  {
   "cell_type": "code",
   "execution_count": null,
   "metadata": {},
   "outputs": [],
   "source": []
  }
 ],
 "metadata": {
  "kernelspec": {
   "display_name": "Python 3 (ipykernel)",
   "language": "python",
   "name": "python3"
  },
  "language_info": {
   "codemirror_mode": {
    "name": "ipython",
    "version": 3
   },
   "file_extension": ".py",
   "mimetype": "text/x-python",
   "name": "python",
   "nbconvert_exporter": "python",
   "pygments_lexer": "ipython3",
   "version": "3.11.5"
  }
 },
 "nbformat": 4,
 "nbformat_minor": 2
}
